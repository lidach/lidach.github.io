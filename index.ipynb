{
  "cells": [
    {
      "cell_type": "raw",
      "metadata": {},
      "source": [
        "---\n",
        "  links:\n",
        "  - icon: github\n",
        "    text: Github\n",
        "    href: https://github.com/lidach\n",
        "  - icon: google\n",
        "    text: Google Scholar\n",
        "    href: https://scholar.google.com/citations?user=p5STazoAAAAJ&hl=en&oi=ao\n",
        "  - icon: envelope\n",
        "    text: Email\n",
        "    href: \"mailto:chonglis@msu.edu\"\n",
        "---"
      ],
      "id": "a8285146"
    },
    {
      "cell_type": "markdown",
      "metadata": {},
      "source": [
        "::: {#about-block}\n",
        ":::\n",
        "\n",
        "\n",
        "```{css, echo=FALSE}\n",
        "h1{\n",
        "  text-align: right;\n",
        "}\n",
        "```\n",
        "\n",
        "\n",
        "# About\n",
        "\n",
        "::: columns\n",
        "::: {.column width=\"30%\"}\n",
        "![](./add_files/math.jpg) ![](./add_files/fishing.jpg)\n",
        ":::\n",
        "\n",
        "::: {.column width=\"10%\"}\n",
        "<!-- empty column to create gap -->\n",
        ":::\n",
        "\n",
        "::: {.column width=\"60%\"}\n",
        "<br>\n",
        "<br>\n",
        "<br>\n",
        "I am a Research Associate (Postdoc) with the Quantitative Fisheries Center ([QFC](https://www.canr.msu.edu/qfc/)) at Michigan State University. I consider myself a quantitative fisheries ecologist.\n",
        "\n",
        ":::\n",
        ":::\n",
        "\n",
        "## Background\n",
        "\n",
        "I received my BSc. in Marine Vertebrate Biology at the State University of New York at Stony Brook in 2016 and my MSc. in International Studies in Aquatic Tropical Ecology at the Universität Bremen in Germany in 2018. I just recently completed my Ph.D. in Fisheries and Aquatic Sciences at the University of Florida in [Dr. Ed Camp's lab](https://edvcamp.wordpress.com/) in 2023."
      ],
      "id": "57d93a76"
    }
  ],
  "metadata": {
    "kernelspec": {
      "display_name": "Python 3",
      "language": "python",
      "name": "python3"
    }
  },
  "nbformat": 4,
  "nbformat_minor": 5
}